{
 "cells": [
  {
   "cell_type": "code",
   "execution_count": 3,
   "metadata": {},
   "outputs": [],
   "source": [
    "import gpt4free\n",
    "import re\n",
    "import requests\n",
    "from pynterface import Ellipsis, smooth_print, Color\n",
    "from bs4 import BeautifulSoup\n",
    "from gpt4free import Provider\n",
    "import matplotlib.pyplot as plt\n",
    "import numpy as np\n",
    "\n",
    "PAGE_COUNT = 49\n",
    "SEARCH_TERM = \"genetically modified organisms effects on the world\"\n",
    "GET_SOUP = lambda url: BeautifulSoup(requests.get(url).text, \"html.parser\")\n",
    "PROGRESS_FREQUENCY = 8"
   ]
  },
  {
   "attachments": {},
   "cell_type": "markdown",
   "metadata": {},
   "source": [
    "Web scrape and obtain the abstracts for analysis, saved in a file."
   ]
  },
  {
   "cell_type": "code",
   "execution_count": 5,
   "metadata": {},
   "outputs": [
    {
     "name": "stdout",
     "output_type": "stream",
     "text": [
      "Getting Article ID's..  "
     ]
    }
   ],
   "source": [
    "\"\"\" This part obtains the article id's to parse through, given a search term \"\"\"\n",
    "\n",
    "# in case of errors near the end\n",
    "try:        \n",
    "    with Ellipsis(message=\"Getting Article ID's\"):\n",
    "\n",
    "        article_ids = []\n",
    "        search_url = f\"https://pubmed.ncbi.nlm.nih.gov/?term={SEARCH_TERM.replace(' ', '%20')}&page=\"\n",
    "\n",
    "        for page in range(1, PAGE_COUNT):\n",
    "            soup = GET_SOUP(f\"{search_url}{page}\")\n",
    "            for link in soup.find_all(\"a\", {\"class\": \"docsum-title\"}):\n",
    "                article_ids.append(link.attrs[\"data-article-id\"])\n",
    "        \n",
    "except Exception as e: \n",
    "    print(e)        \n",
    "\n",
    "\"\"\" This part obtainas abstracts from the articles \"\"\"\n",
    "\n",
    "with Ellipsis(message=\"Getting Abstracts\") as loader:\n",
    "\n",
    "    abstracts = []\n",
    "    article_url = \"https://pubmed.ncbi.nlm.nih.gov/\"\n",
    "\n",
    "    for index, id in enumerate(article_ids, start=1):\n",
    "        soup = GET_SOUP(f\"{article_url}{id}\")\n",
    "        if index % PROGRESS_FREQUENCY == 0:\n",
    "            loader.print_above(f\"{Color.BLUE}{index} {Color.RESET_COLOR}abstracts read.\")\n",
    "        try: \n",
    "            abstract = soup.find(\"div\", {\"class\": \"abstract-content\"}).text\n",
    "            abstract = abstract.strip().replace(\"\\n\", ' ')      # remove trailing and sub spaces for newlines between\n",
    "            abstracts.append(abstract+\"\\n\") \n",
    "        except:\n",
    "            loader.print_above(f\"{Color.RED}ERROR: {Color.RESET_COLOR}Article with ID {Color.BLUE}{id} {Color.RESET_COLOR}has no abstract.\")\n",
    "\n",
    "with open(\"abstracts.txt\", \"w\") as f:\n",
    "\n",
    "    # write to file\n",
    "    f.writelines(abstracts)\n",
    "    smooth_print(\"Successfully saved abstracts.\")"
   ]
  },
  {
   "attachments": {},
   "cell_type": "markdown",
   "metadata": {},
   "source": [
    "Obtain the AI analysis of the abstracts."
   ]
  },
  {
   "cell_type": "code",
   "execution_count": 2,
   "metadata": {},
   "outputs": [
    {
     "ename": "TypeError",
     "evalue": "'ellipsis' object is not callable",
     "output_type": "error",
     "traceback": [
      "\u001b[0;31m---------------------------------------------------------------------------\u001b[0m",
      "\u001b[0;31mTypeError\u001b[0m                                 Traceback (most recent call last)",
      "Cell \u001b[0;32mIn[2], line 32\u001b[0m\n\u001b[1;32m     25\u001b[0m data \u001b[39m=\u001b[39m {\n\u001b[1;32m     26\u001b[0m     \u001b[39m\"\u001b[39m\u001b[39menvironment\u001b[39m\u001b[39m\"\u001b[39m: [],\n\u001b[1;32m     27\u001b[0m     \u001b[39m\"\u001b[39m\u001b[39meconomy\u001b[39m\u001b[39m\"\u001b[39m: [],\n\u001b[1;32m     28\u001b[0m     \u001b[39m\"\u001b[39m\u001b[39mhealth\u001b[39m\u001b[39m\"\u001b[39m: [],\n\u001b[1;32m     29\u001b[0m }\n\u001b[1;32m     31\u001b[0m \u001b[39m# analyze each abstract using the AI\u001b[39;00m\n\u001b[0;32m---> 32\u001b[0m \u001b[39mwith\u001b[39;00m \u001b[39mEllipsis\u001b[39;49m(\u001b[39m\"\u001b[39;49m\u001b[39mAnalyzing\u001b[39;49m\u001b[39m\"\u001b[39;49m) \u001b[39mas\u001b[39;00m loader:\n\u001b[1;32m     33\u001b[0m     \u001b[39mfor\u001b[39;00m index, abstract \u001b[39min\u001b[39;00m \u001b[39menumerate\u001b[39m(abstracts, start\u001b[39m=\u001b[39m\u001b[39m1\u001b[39m):\n\u001b[1;32m     34\u001b[0m         \u001b[39mif\u001b[39;00m \u001b[39mnot\u001b[39;00m index \u001b[39m%\u001b[39m \u001b[39m5\u001b[39m:\n",
      "\u001b[0;31mTypeError\u001b[0m: 'ellipsis' object is not callable"
     ]
    }
   ],
   "source": [
    "def analyze_abstract(abstract):\n",
    "\n",
    "    prompt = \"\"\"Analyze the text to determine the effects of genetically modified organisms on the environment, the economy, and human health. Your output should be in the following format: \"environment: <response>, economy: <response>, health: <response>\", where <response> can be 'G' for good, 'B' for bad, 'N' for neutral, or 'I' for not enough information.\"\"\"\n",
    "    response = \"Unable to fetch the response, Please try again.\"\n",
    "\n",
    "    # filter bad responses\n",
    "    while \"Unable to fetch the response, Please try again.\" in response:\n",
    "        response = gpt4free.Completion.create(Provider.You, prompt=abstract+\"\\n\"+prompt)\n",
    "\n",
    "    response = response.lower()\n",
    "        \n",
    "    # get information\n",
    "    try: env = re.search(\"environment: [a-z]\", response).group().split()[1]\n",
    "    except: env = None\n",
    "    try: econ = re.search(\"economy: [a-z]\", response).group().split()[1]\n",
    "    except: econ = None\n",
    "    try: health = re.search(\"health: [a-z]\", response).group().split()[1]\n",
    "    except: health = None\n",
    "    \n",
    "    return {\"environment\": env, \"economy\": econ, \"health\": health}\n",
    "\n",
    "with open(\"abstracts.txt\", \"r\") as f:\n",
    "    abstracts = f.readlines()\n",
    "\n",
    "data = {\n",
    "    \"environment\": [],\n",
    "    \"economy\": [],\n",
    "    \"health\": [],\n",
    "}\n",
    "\n",
    "# analyze each abstract using the AI\n",
    "with Ellipsis(\"Analyzing\") as loader:\n",
    "    for index, abstract in enumerate(abstracts, start=1):\n",
    "        if not index % 5:\n",
    "            loader.print_above(f\"{index} articles analyzed.\")\n",
    "        response = analyze_abstract(abstract)\n",
    "        for topic, effect in response.items():\n",
    "            if effect == None:\n",
    "                continue\n",
    "            data[topic].append(effect)"
   ]
  },
  {
   "attachments": {},
   "cell_type": "markdown",
   "metadata": {},
   "source": [
    "Plot the results."
   ]
  },
  {
   "cell_type": "code",
   "execution_count": 1,
   "metadata": {},
   "outputs": [
    {
     "ename": "NameError",
     "evalue": "name 'data' is not defined",
     "output_type": "error",
     "traceback": [
      "\u001b[0;31m---------------------------------------------------------------------------\u001b[0m",
      "\u001b[0;31mNameError\u001b[0m                                 Traceback (most recent call last)",
      "Cell \u001b[0;32mIn[1], line 1\u001b[0m\n\u001b[0;32m----> 1\u001b[0m env_cnt \u001b[39m=\u001b[39m \u001b[39mlen\u001b[39m(data[\u001b[39m\"\u001b[39m\u001b[39menvironment\u001b[39m\u001b[39m\"\u001b[39m])\n\u001b[1;32m      2\u001b[0m env_good \u001b[39m=\u001b[39m data[\u001b[39m\"\u001b[39m\u001b[39menvironment\u001b[39m\u001b[39m\"\u001b[39m]\u001b[39m.\u001b[39mcount(\u001b[39m'\u001b[39m\u001b[39mg\u001b[39m\u001b[39m'\u001b[39m) \u001b[39m/\u001b[39m env_cnt\n\u001b[1;32m      3\u001b[0m env_bad \u001b[39m=\u001b[39m data[\u001b[39m\"\u001b[39m\u001b[39menvironment\u001b[39m\u001b[39m\"\u001b[39m]\u001b[39m.\u001b[39mcount(\u001b[39m'\u001b[39m\u001b[39mb\u001b[39m\u001b[39m'\u001b[39m) \u001b[39m/\u001b[39m env_cnt\n",
      "\u001b[0;31mNameError\u001b[0m: name 'data' is not defined"
     ]
    }
   ],
   "source": [
    "env_cnt = len(data[\"environment\"])\n",
    "env_good = data[\"environment\"].count('g') / env_cnt\n",
    "env_bad = data[\"environment\"].count('b') / env_cnt\n",
    "env_mid = data[\"environment\"].count('n') / env_cnt\n",
    "\n",
    "econ_cnt = len(data[\"economy\"])\n",
    "econ_good = data[\"economy\"].count('g') / econ_cnt\n",
    "econ_bad = data[\"economy\"].count('b') / econ_cnt\n",
    "econ_mid = data[\"economy\"].count('n') / econ_cnt\n",
    "\n",
    "health_cnt = len(data[\"health\"])\n",
    "health_good = data[\"health\"].count('g') / health_cnt\n",
    "health_bad = data[\"health\"].count('b') / health_cnt\n",
    "health_mid = data[\"health\"].count('n') / health_cnt\n",
    "\n",
    "# plot graphs\n",
    "stat_count = 3  # health, econ, env\n",
    "x_size, y_size = 10, 6\n",
    "fig = plt.figure(figsize=(x_size, y_size))\n",
    "bar_width = x_size / stat_count / 2\n",
    "\n",
    "# determines x-axis\n",
    "x_axis = np.arange(0, x_size, x_size / stat_count)\n",
    "\n",
    "# for stacking\n",
    "goods = [env_good, econ_good, health_good]\n",
    "mids = [goods[i] + n for i, n in enumerate([env_mid, econ_mid, health_mid])]\n",
    "bads = [mids[i] + n for i, n in enumerate([env_bad, econ_bad, health_bad])]\n",
    "not_enough = [1, 1, 1]\n",
    "\n",
    "# plots bars\n",
    "plt.bar(x_axis, not_enough, bar_width, color=\"lightgray\", label=\"Not enough information\")\n",
    "plt.bar(x_axis, bads, bar_width, color=\"red\", label=\"Negative\")\n",
    "plt.bar(x_axis, mids, bar_width, color=\"gray\", label=\"Neutral\")\n",
    "plt.bar(x_axis, goods, bar_width, color=\"blue\", label=\"Positive\")\n",
    "\n",
    "# labels\n",
    "plt.xticks(x_axis, data.keys(), fontsize=10)    \n",
    "plt.xlabel(\"Factor Affected By GMOs\")\n",
    "plt.ylabel(\"Percent of Abstracts\")\n",
    "plt.title(f\"The effects of GMOs on several factors according to web-scraped articles\")\n",
    "\n",
    "# shows figure\n",
    "plt.legend(loc=\"best\")\n",
    "plt.savefig(f\"result.png\")\n",
    "plt.show()\n",
    "\n",
    "print(data)"
   ]
  }
 ],
 "metadata": {
  "kernelspec": {
   "display_name": ".venv",
   "language": "python",
   "name": "python3"
  },
  "language_info": {
   "codemirror_mode": {
    "name": "ipython",
    "version": 3
   },
   "file_extension": ".py",
   "mimetype": "text/x-python",
   "name": "python",
   "nbconvert_exporter": "python",
   "pygments_lexer": "ipython3",
   "version": "3.11.3"
  },
  "orig_nbformat": 4,
  "vscode": {
   "interpreter": {
    "hash": "5d79ac59cdc112f7c92dbefd1a94bdbd9126a8174da15efbb50fe80a75b96e67"
   }
  }
 },
 "nbformat": 4,
 "nbformat_minor": 2
}
