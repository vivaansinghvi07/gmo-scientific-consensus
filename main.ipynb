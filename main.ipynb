{
 "cells": [
  {
   "cell_type": "code",
   "execution_count": 1,
   "metadata": {},
   "outputs": [],
   "source": [
    "import g4f\n",
    "import re\n",
    "import requests\n",
    "import pandas as pd\n",
    "from pynterface import Ellipsis, smooth_print, Color\n",
    "from bs4 import BeautifulSoup\n",
    "import matplotlib.pyplot as plt\n",
    "import numpy as np\n",
    "\n",
    "PAGE_COUNT = 49\n",
    "SEARCH_TERM = \"genetically modified organisms effects on the world\"\n",
    "GET_SOUP = lambda url: BeautifulSoup(requests.get(url).text, \"html.parser\")\n",
    "PROGRESS_FREQUENCY = 5\n",
    "\n",
    "PROMPT = \"Analyze the text to determine the effects of genetically modified organisms on the environment, the economy, and human health. \" \\\n",
    "         \"Your output should be in the following format: \\\"environment: <response>, economy: <response>, health: <response>\\\",\"\\\n",
    "         \"where <response> can be 'G' for good, 'B' for bad, 'N' for neutral, or 'I' for not enough information.\"\n",
    "ERROR_PROMPT = \"Unable to fetch the response, Please try again.\""
   ]
  },
  {
   "attachments": {},
   "cell_type": "markdown",
   "metadata": {},
   "source": [
    "Web scrape and obtain the abstracts for analysis, saved in a file."
   ]
  },
  {
   "cell_type": "code",
   "execution_count": null,
   "metadata": {},
   "outputs": [],
   "source": [
    "\"\"\" This part obtains the article id's to parse through, given a search term \"\"\"\n",
    "\n",
    "# in case of errors near the end\n",
    "try:        \n",
    "    with Ellipsis(message=\"Getting Article ID's\"):\n",
    "\n",
    "        article_ids = []\n",
    "        search_url = f\"https://pubmed.ncbi.nlm.nih.gov/?term={SEARCH_TERM.replace(' ', '%20')}&page=\"\n",
    "\n",
    "        for page in range(1, PAGE_COUNT):\n",
    "            soup = GET_SOUP(f\"{search_url}{page}\")\n",
    "            for link in soup.find_all(\"a\", {\"class\": \"docsum-title\"}):\n",
    "                article_ids.append(link.attrs[\"data-article-id\"])\n",
    "        \n",
    "except Exception as e: \n",
    "    print(e)        \n",
    "\n",
    "\"\"\" This part obtainas abstracts from the articles \"\"\"\n",
    "\n",
    "with Ellipsis(message=\"Getting Abstracts\") as loader:\n",
    "\n",
    "    abstracts = []\n",
    "    article_url = \"https://pubmed.ncbi.nlm.nih.gov/\"\n",
    "\n",
    "    for index, id in enumerate(article_ids, start=1):\n",
    "        soup = GET_SOUP(f\"{article_url}{id}\")\n",
    "        if index % PROGRESS_FREQUENCY == 0:\n",
    "            loader.print_above(f\"{Color.BLUE}{index} {Color.RESET_COLOR}abstracts read.\")\n",
    "        try: \n",
    "            abstract = soup.find(\"div\", {\"class\": \"abstract-content\"}).text\n",
    "            abstract = abstract.strip().replace(\"\\n\", ' ')      # remove trailing and sub spaces for newlines between\n",
    "            abstracts.append(abstract+\"\\n\") \n",
    "        except:\n",
    "            loader.print_above(f\"{Color.RED}ERROR: {Color.RESET_COLOR}Article with ID {Color.BLUE}{id} {Color.RESET_COLOR}has no abstract.\")\n",
    "\n",
    "with open(\"abstracts.txt\", \"w\") as f:\n",
    "\n",
    "    # write to file\n",
    "    f.writelines(abstracts)\n",
    "    smooth_print(\"Successfully saved abstracts.\")"
   ]
  },
  {
   "attachments": {},
   "cell_type": "markdown",
   "metadata": {},
   "source": [
    "Obtain the AI analysis of the abstracts."
   ]
  },
  {
   "cell_type": "code",
   "execution_count": 2,
   "metadata": {},
   "outputs": [
    {
     "name": "stdout",
     "output_type": "stream",
     "text": [
      "450 articles analyzed.\n",
      "455 articles analyzed.                                              \n",
      "460 articles analyzed.                                    \n",
      "465 articles analyzed.                                                   \n",
      "\u001b[?25hDone on the 469th article.                                  \n"
     ]
    }
   ],
   "source": [
    "def analyze_abstract(abstract):\n",
    "\n",
    "    response = ERROR_PROMPT\n",
    "\n",
    "    import nest_asyncio\n",
    "    nest_asyncio.apply()\n",
    "\n",
    "    # filter bad responses\n",
    "    while ERROR_PROMPT in response:\n",
    "        response = g4f.ChatCompletion.create(\n",
    "            model=g4f.models.gpt_4,\n",
    "            messages=[{\"role\": \"user\", \"content\": abstract+\"\\n\"+PROMPT}],\n",
    "            provider=g4f.Provider.DeepAi\n",
    "        )\n",
    "\n",
    "    response = response.lower()\n",
    "        \n",
    "    # get information\n",
    "    output = {\"environment\": None, \"economy\": None, \"health\": None}\n",
    "    for aspect in output:\n",
    "        try:\n",
    "            output[aspect] = re.search(fr\"{aspect}: [a-z]\", response).group().split()[1]\n",
    "        except:\n",
    "            continue\n",
    "    \n",
    "    return output\n",
    "\n",
    "with open(\"abstracts.txt\", \"r\") as f:\n",
    "    abstracts = f.readlines()\n",
    "\n",
    "data = {\n",
    "    \"environment\": [],\n",
    "    \"economy\": [],\n",
    "    \"health\": [],\n",
    "}\n",
    "\n",
    "START_AT = 450\n",
    "\n",
    "# analyze each abstract using the AI\n",
    "try:\n",
    "    with Ellipsis(\"Analyzing\") as loader:\n",
    "        for index, abstract in enumerate(abstracts, start=1):\n",
    "            if index < START_AT:\n",
    "                continue\n",
    "            if not index % PROGRESS_FREQUENCY:\n",
    "                loader.print_above(f\"{index} articles analyzed.\")\n",
    "            response = analyze_abstract(abstract)\n",
    "            for topic, effect in response.items():\n",
    "                data[topic].append(effect)\n",
    "finally:\n",
    "    print(f\"Done on the {index}th article.\")\n",
    "    current = pd.read_csv(\"data.csv\")\n",
    "    added = pd.DataFrame(data)\n",
    "    pd.concat([current, added], ignore_index=True).to_csv(\"data.csv\", index=False)"
   ]
  },
  {
   "attachments": {},
   "cell_type": "markdown",
   "metadata": {},
   "source": [
    "Plot the results."
   ]
  },
  {
   "cell_type": "code",
   "execution_count": 3,
   "metadata": {},
   "outputs": [
    {
     "data": {
      "image/png": "[encoded data removed]",
      "text/plain": [
       "<Figure size 1000x600 with 1 Axes>"
      ]
     },
     "metadata": {},
     "output_type": "display_data"
    }
   ],
   "source": [
    "# transform data to our purposes\n",
    "data = dict(pd.read_csv(\"data.csv\"))\n",
    "for k, v in data.items():\n",
    "    data[k] = [*v]\n",
    "    data_len = len(v)\n",
    "\n",
    "# determine results\n",
    "results = {\n",
    "    metric: {\n",
    "        opinion: data[metric].count(opinion) / data_len\n",
    "        for opinion in ['g', 'b', 'n']\n",
    "    }\n",
    "    for metric in data.keys()\n",
    "}\n",
    "\n",
    "# plot graphs\n",
    "stat_count = 3  # health, econ, env\n",
    "x_size, y_size = 10, 6\n",
    "fig = plt.figure(figsize=(x_size, y_size))\n",
    "bar_width = x_size / stat_count / 2\n",
    "\n",
    "# determines x-axis\n",
    "x_axis = np.arange(0, x_size, x_size / stat_count)\n",
    "\n",
    "# for stacking\n",
    "goods = [v['g'] for v in results.values()]\n",
    "mids = [v['g'] + v['n'] for v in results.values()]\n",
    "bads = [v['g'] + v['n'] + v['b'] for v in results.values()]\n",
    "not_enough = [1, 1, 1]\n",
    "\n",
    "# plots bars\n",
    "plt.bar(x_axis, not_enough, bar_width, color=\"lightgray\", label=\"Not enough information\")\n",
    "plt.bar(x_axis, bads, bar_width, color=\"red\", label=\"Negative\")\n",
    "plt.bar(x_axis, mids, bar_width, color=\"gray\", label=\"Neutral\")\n",
    "plt.bar(x_axis, goods, bar_width, color=\"blue\", label=\"Positive\")\n",
    "\n",
    "# labels\n",
    "plt.xticks(x_axis, map(lambda x: x[0].upper() + x[1::], results.keys()), fontsize=10)    \n",
    "plt.xlabel(\"Factor Affected By GMOs\")\n",
    "plt.ylabel(\"Proportion of Abstracts\")\n",
    "plt.title(f\"The effects of GMOs on several factors according to web-scraped articles\")\n",
    "\n",
    "# shows figure\n",
    "plt.legend(loc=\"best\")\n",
    "plt.savefig(f\"result.png\")\n",
    "plt.show()"
   ]
  }
 ],
 "metadata": {
  "kernelspec": {
   "display_name": ".venv",
   "language": "python",
   "name": "python3"
  },
  "language_info": {
   "codemirror_mode": {
    "name": "ipython",
    "version": 3
   },
   "file_extension": ".py",
   "mimetype": "text/x-python",
   "name": "python",
   "nbconvert_exporter": "python",
   "pygments_lexer": "ipython3",
   "version": "3.11.4"
  },
  "orig_nbformat": 4,
  "vscode": {
   "interpreter": {
    "hash": "5d79ac59cdc112f7c92dbefd1a94bdbd9126a8174da15efbb50fe80a75b96e67"
   }
  }
 },
 "nbformat": 4,
 "nbformat_minor": 2
}
